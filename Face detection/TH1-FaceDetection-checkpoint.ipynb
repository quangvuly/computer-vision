{
 "cells": [
  {
   "cell_type": "code",
   "execution_count": 2,
   "metadata": {},
   "outputs": [],
   "source": [
    "from mtcnn.mtcnn import MTCNN\n",
    "import cv2\n",
    "\n",
    "detector = MTCNN()\n",
    "\n",
    "img = cv2.imread(\"image\\img01.jpg\")\n",
    "result = detector.detect_faces(img)\n",
    "\n",
    "bounding_box = result[0]['box']\n",
    "cv2.rectangle(\n",
    "    img,\n",
    "    (bounding_box[0],bounding_box[1]),\n",
    "    (bounding_box[0] + bounding_box[2], bounding_box[1] + bounding_box[3]),\n",
    "    (220,20,60),\n",
    "    2\n",
    ")\n",
    "\n",
    "cv2.imshow('Face detection',img)\n",
    "cv2.waitKey()\n"
   ]
  },
  {
   "cell_type": "code",
   "execution_count": null,
   "metadata": {},
   "outputs": [],
   "source": []
  }
 ],
 "metadata": {
  "kernelspec": {
   "display_name": "Python 3",
   "language": "python",
   "name": "python3"
  },
  "language_info": {
   "codemirror_mode": {
    "name": "ipython",
    "version": 3
   },
   "file_extension": ".py",
   "mimetype": "text/x-python",
   "name": "python",
   "nbconvert_exporter": "python",
   "pygments_lexer": "ipython3",
   "version": "3.6.8"
  }
 },
 "nbformat": 4,
 "nbformat_minor": 2
}
