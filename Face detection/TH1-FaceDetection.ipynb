from mtcnn.mtcnn import MTCNN
import cv2
import matplotlib.pyplot as plt
detector = MTCNN()

img = cv2.imread("image\img01.jpg")
result = detector.detect_faces(img)

bounding_box = result[0]['box']
cv2.rectangle(
    img,
    (bounding_box[0],bounding_box[1]),
    (bounding_box[0] + bounding_box[2], bounding_box[1] + bounding_box[3]),
    (220,20,60),
    2
)

plt.imshow(cv2.cvtColor(img,cv2.COLOR_BGR2RGB))
