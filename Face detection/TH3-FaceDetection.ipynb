{
 "cells": [
  {
   "cell_type": "code",
   "execution_count": 5,
   "metadata": {},
   "outputs": [
    {
     "ename": "ModuleNotFoundError",
     "evalue": "No module named 'mtcnn'",
     "traceback": [
      "\u001b[1;31m---------------------------------------------------------------------------\u001b[0m",
      "\u001b[1;31mModuleNotFoundError\u001b[0m                       Traceback (most recent call last)",
      "\u001b[1;32m<ipython-input-5-2fb42b303a8f>\u001b[0m in \u001b[0;36m<module>\u001b[1;34m\u001b[0m\n\u001b[1;32m----> 1\u001b[1;33m \u001b[1;32mfrom\u001b[0m \u001b[0mmtcnn\u001b[0m\u001b[1;33m.\u001b[0m\u001b[0mmtcnn\u001b[0m \u001b[1;32mimport\u001b[0m \u001b[0mMTCNN\u001b[0m\u001b[1;33m\u001b[0m\u001b[1;33m\u001b[0m\u001b[0m\n\u001b[0m\u001b[0;32m      2\u001b[0m \u001b[1;33m\u001b[0m\u001b[0m\n\u001b[0;32m      3\u001b[0m \u001b[1;32mimport\u001b[0m \u001b[0mos\u001b[0m\u001b[1;33m\u001b[0m\u001b[1;33m\u001b[0m\u001b[0m\n\u001b[0;32m      4\u001b[0m \u001b[1;32mimport\u001b[0m \u001b[0mmatplotlib\u001b[0m\u001b[1;33m.\u001b[0m\u001b[0mpyplot\u001b[0m \u001b[1;32mas\u001b[0m \u001b[0mplt\u001b[0m\u001b[1;33m\u001b[0m\u001b[1;33m\u001b[0m\u001b[0m\n\u001b[0;32m      5\u001b[0m \u001b[1;32mimport\u001b[0m \u001b[0mcv2\u001b[0m\u001b[1;33m\u001b[0m\u001b[1;33m\u001b[0m\u001b[0m\n",
      "\u001b[1;31mModuleNotFoundError\u001b[0m: No module named 'mtcnn'"
     ],
     "output_type": "error"
    }
   ],
   "source": [
    "from mtcnn.mtcnn import MTCNN\n",
    "\n",
    "import os\n",
    "import matplotlib.pyplot as plt\n",
    "import cv2\n",
    "\n",
    "detector = MTCNN()\n",
    "\n",
    "\n",
    "path_facedb = 'image_facedb'\n",
    "path_facedb_crop = 'image_facedb_crop'\n",
    "dir_facedb = os.listdir(path_facedb)\n",
    "\n",
    "count_folder = 1\n",
    "\n",
    "for item in dir_facedb:\n",
    "    images = os.path.join(path_facedb,item)\n",
    "    \n",
    "    img = cv2.imread(images)\n",
    "    img_temp = img.copy()\n",
    "    img_crop = []\n",
    "    \n",
    "    path_sub_facedb_crop = path_facedb_crop + '/folder-' + str(count_folder)\n",
    "    if not os.path.exists(path_sub_facedb_crop):\n",
    "        os.mkdir(path_sub_facedb_crop)\n",
    "    \n",
    "    result = detector.detect_faces(img)\n",
    "\n",
    "    count = 1\n",
    "    for faces in result:\n",
    "        bounding_box = faces['box']\n",
    "\n",
    "        cv2.rectangle(\n",
    "            img_temp,\n",
    "            (bounding_box[0],bounding_box[1]),\n",
    "            (bounding_box[0] + bounding_box[2], bounding_box[1] + bounding_box[3]),\n",
    "            (220,20,60),\n",
    "            3\n",
    "        )\n",
    "        \n",
    "        img_crop = img[bounding_box[1]:bounding_box[1] + bounding_box[3],bounding_box[0]:bounding_box[0] + bounding_box[2]]\n",
    "        plt.imshow(cv2.cvtColor(img_crop,cv2.COLOR_BGR2RGB))\n",
    "        plt.show()\n",
    "\n",
    "        cv2.imwrite(os.path.join(path_sub_facedb_crop, str(count) + \".jpg\"),img_crop)\n",
    "        count = count + 1\n",
    "\n",
    "    count_folder = count_folder + 1\n",
    "    plt.imshow(cv2.cvtColor(img_temp,cv2.COLOR_BGR2RGB))\n",
    "\n",
    "\n"
   ]
  },
  {
   "cell_type": "code",
   "execution_count": null,
   "metadata": {},
   "outputs": [],
   "source": []
  },
  {
   "cell_type": "code",
   "execution_count": null,
   "metadata": {},
   "outputs": [],
   "source": []
  },
  {
   "cell_type": "code",
   "execution_count": null,
   "metadata": {},
   "outputs": [],
   "source": []
  }
 ],
 "metadata": {
  "kernelspec": {
   "display_name": "Python 3",
   "language": "python",
   "name": "python3"
  }
 },
 "nbformat": 4,
 "nbformat_minor": 1
}
